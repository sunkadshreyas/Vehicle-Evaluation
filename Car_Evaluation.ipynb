{
 "cells": [
  {
   "cell_type": "code",
   "execution_count": 115,
   "metadata": {},
   "outputs": [],
   "source": [
    "import os\n",
    "import numpy as np\n",
    "import pandas as pd\n",
    "import matplotlib.pyplot as plt\n",
    "import seaborn as sns\n",
    "%matplotlib inline"
   ]
  },
  {
   "cell_type": "code",
   "execution_count": 116,
   "metadata": {},
   "outputs": [],
   "source": [
    "import zipfile\n",
    "zf = zipfile.ZipFile('./2298_3884_bundle_archive.zip')\n",
    "data = pd.read_csv('car_evaluation.csv',names=['price','maintain','doors','persons','boot','safe','decision'])\n",
    "# data has no headers hence passed headers in read_csv function"
   ]
  },
  {
   "cell_type": "code",
   "execution_count": 117,
   "metadata": {},
   "outputs": [],
   "source": [
    "# The dependent variable y consists of four string values : unacc, acc, good, vgood\n",
    "# Mapping them to numbers \n",
    "mappings = {'unacc':0, 'acc':1, 'good':2, 'vgood':3}\n",
    "data['decision'] = data[\"decision\"].map(mappings)"
   ]
  },
  {
   "cell_type": "code",
   "execution_count": 118,
   "metadata": {},
   "outputs": [],
   "source": [
    "# for 5 or more doors value in dataframe is 5more, replacing it with 5\n",
    "# for 5 or more persons value in dataframe is more, replacing it with 5\n",
    "data['doors'] = data['doors'].replace('5more', 5)\n",
    "data['persons'] = data['persons'].replace('more', 5)"
   ]
  },
  {
   "cell_type": "code",
   "execution_count": 119,
   "metadata": {},
   "outputs": [
    {
     "data": {
      "text/html": [
       "<div>\n",
       "<style scoped>\n",
       "    .dataframe tbody tr th:only-of-type {\n",
       "        vertical-align: middle;\n",
       "    }\n",
       "\n",
       "    .dataframe tbody tr th {\n",
       "        vertical-align: top;\n",
       "    }\n",
       "\n",
       "    .dataframe thead th {\n",
       "        text-align: right;\n",
       "    }\n",
       "</style>\n",
       "<table border=\"1\" class=\"dataframe\">\n",
       "  <thead>\n",
       "    <tr style=\"text-align: right;\">\n",
       "      <th></th>\n",
       "      <th>price</th>\n",
       "      <th>maintain</th>\n",
       "      <th>doors</th>\n",
       "      <th>persons</th>\n",
       "      <th>boot</th>\n",
       "      <th>safe</th>\n",
       "      <th>decision</th>\n",
       "    </tr>\n",
       "  </thead>\n",
       "  <tbody>\n",
       "    <tr>\n",
       "      <th>0</th>\n",
       "      <td>vhigh</td>\n",
       "      <td>vhigh</td>\n",
       "      <td>2</td>\n",
       "      <td>2</td>\n",
       "      <td>small</td>\n",
       "      <td>low</td>\n",
       "      <td>0</td>\n",
       "    </tr>\n",
       "    <tr>\n",
       "      <th>1</th>\n",
       "      <td>vhigh</td>\n",
       "      <td>vhigh</td>\n",
       "      <td>2</td>\n",
       "      <td>2</td>\n",
       "      <td>small</td>\n",
       "      <td>med</td>\n",
       "      <td>0</td>\n",
       "    </tr>\n",
       "    <tr>\n",
       "      <th>2</th>\n",
       "      <td>vhigh</td>\n",
       "      <td>vhigh</td>\n",
       "      <td>2</td>\n",
       "      <td>2</td>\n",
       "      <td>small</td>\n",
       "      <td>high</td>\n",
       "      <td>0</td>\n",
       "    </tr>\n",
       "    <tr>\n",
       "      <th>3</th>\n",
       "      <td>vhigh</td>\n",
       "      <td>vhigh</td>\n",
       "      <td>2</td>\n",
       "      <td>2</td>\n",
       "      <td>med</td>\n",
       "      <td>low</td>\n",
       "      <td>0</td>\n",
       "    </tr>\n",
       "    <tr>\n",
       "      <th>4</th>\n",
       "      <td>vhigh</td>\n",
       "      <td>vhigh</td>\n",
       "      <td>2</td>\n",
       "      <td>2</td>\n",
       "      <td>med</td>\n",
       "      <td>med</td>\n",
       "      <td>0</td>\n",
       "    </tr>\n",
       "  </tbody>\n",
       "</table>\n",
       "</div>"
      ],
      "text/plain": [
       "   price maintain doors persons   boot  safe  decision\n",
       "0  vhigh    vhigh     2       2  small   low         0\n",
       "1  vhigh    vhigh     2       2  small   med         0\n",
       "2  vhigh    vhigh     2       2  small  high         0\n",
       "3  vhigh    vhigh     2       2    med   low         0\n",
       "4  vhigh    vhigh     2       2    med   med         0"
      ]
     },
     "execution_count": 119,
     "metadata": {},
     "output_type": "execute_result"
    }
   ],
   "source": [
    "data.head()"
   ]
  },
  {
   "cell_type": "code",
   "execution_count": 120,
   "metadata": {},
   "outputs": [
    {
     "name": "stdout",
     "output_type": "stream",
     "text": [
      "(1728, 7)\n"
     ]
    }
   ],
   "source": [
    "print (data.shape)"
   ]
  },
  {
   "cell_type": "code",
   "execution_count": 121,
   "metadata": {},
   "outputs": [
    {
     "name": "stdout",
     "output_type": "stream",
     "text": [
      "<class 'pandas.core.frame.DataFrame'>\n",
      "RangeIndex: 1728 entries, 0 to 1727\n",
      "Data columns (total 7 columns):\n",
      " #   Column    Non-Null Count  Dtype \n",
      "---  ------    --------------  ----- \n",
      " 0   price     1728 non-null   object\n",
      " 1   maintain  1728 non-null   object\n",
      " 2   doors     1728 non-null   object\n",
      " 3   persons   1728 non-null   object\n",
      " 4   boot      1728 non-null   object\n",
      " 5   safe      1728 non-null   object\n",
      " 6   decision  1728 non-null   int64 \n",
      "dtypes: int64(1), object(6)\n",
      "memory usage: 94.6+ KB\n",
      "None\n"
     ]
    }
   ],
   "source": [
    "print (data.info())"
   ]
  },
  {
   "cell_type": "code",
   "execution_count": 122,
   "metadata": {},
   "outputs": [
    {
     "name": "stdout",
     "output_type": "stream",
     "text": [
      "(1728, 6)\n",
      "(1728,)\n"
     ]
    }
   ],
   "source": [
    "X = data.iloc[:,:-1].values\n",
    "y = data.iloc[:,6].values\n",
    "print (X.shape)\n",
    "print (y.shape)"
   ]
  },
  {
   "cell_type": "code",
   "execution_count": 123,
   "metadata": {},
   "outputs": [
    {
     "name": "stdout",
     "output_type": "stream",
     "text": [
      "(1728, 16)\n"
     ]
    }
   ],
   "source": [
    "# Data preprocessing\n",
    "# Dataframe consists of strings, using OneHotEncoder to replace them with one hot vectors\n",
    "from sklearn.preprocessing import OneHotEncoder, LabelEncoder\n",
    "from sklearn.compose import ColumnTransformer\n",
    "\n",
    "ct = ColumnTransformer(transformers = [('encoder', OneHotEncoder(), [0,1,4,5])], remainder = 'passthrough')\n",
    "X = np.array(ct.fit_transform(X))\n",
    "print (X.shape)"
   ]
  },
  {
   "cell_type": "code",
   "execution_count": 125,
   "metadata": {},
   "outputs": [],
   "source": [
    "# Splitting into training and testing set\n",
    "from sklearn.model_selection import train_test_split\n",
    "X_train, X_test, y_train, y_test = train_test_split(X, y, test_size=0.25)"
   ]
  },
  {
   "cell_type": "code",
   "execution_count": 137,
   "metadata": {},
   "outputs": [
    {
     "data": {
      "text/plain": [
       "SVC()"
      ]
     },
     "execution_count": 137,
     "metadata": {},
     "output_type": "execute_result"
    }
   ],
   "source": [
    "# Training a SVM Classifier\n",
    "from sklearn.svm import SVC\n",
    "svmclassifier = SVC(kernel = 'rbf')\n",
    "svmclassifier.fit(X_train, y_train)"
   ]
  },
  {
   "cell_type": "code",
   "execution_count": 139,
   "metadata": {},
   "outputs": [
    {
     "data": {
      "text/plain": [
       "RandomForestClassifier(criterion='entropy', n_estimators=10)"
      ]
     },
     "execution_count": 139,
     "metadata": {},
     "output_type": "execute_result"
    }
   ],
   "source": [
    "# Training a Random Forest Classifier\n",
    "from sklearn.ensemble import RandomForestClassifier\n",
    "forestclassifier = RandomForestClassifier(n_estimators = 10, criterion = 'entropy')\n",
    "forestclassifier.fit(X_train, y_train)"
   ]
  },
  {
   "cell_type": "code",
   "execution_count": 140,
   "metadata": {},
   "outputs": [],
   "source": [
    "# Predictions\n",
    "y_pred_svm = svmclassifier.predict(X_test)\n",
    "y_pred_forest = forestclassifier.predict(X_test)"
   ]
  },
  {
   "cell_type": "code",
   "execution_count": 141,
   "metadata": {},
   "outputs": [
    {
     "name": "stdout",
     "output_type": "stream",
     "text": [
      "Classification report for SVM Classifier : \n",
      "\n",
      "\n",
      "              precision    recall  f1-score   support\n",
      "\n",
      "       unacc       0.99      0.96      0.97       295\n",
      "         acc       0.67      0.96      0.79        94\n",
      "        good       0.00      0.00      0.00        21\n",
      "       vgood       0.89      0.36      0.52        22\n",
      "\n",
      "    accuracy                           0.88       432\n",
      "   macro avg       0.64      0.57      0.57       432\n",
      "weighted avg       0.86      0.88      0.86       432\n",
      "\n",
      "\n",
      "\n",
      "Classification report for Random Forest Classifier : \n",
      "\n",
      "\n",
      "              precision    recall  f1-score   support\n",
      "\n",
      "       unacc       0.99      0.98      0.98       295\n",
      "         acc       0.94      0.94      0.94        94\n",
      "        good       0.94      0.81      0.87        21\n",
      "       vgood       0.85      1.00      0.92        22\n",
      "\n",
      "    accuracy                           0.97       432\n",
      "   macro avg       0.93      0.93      0.93       432\n",
      "weighted avg       0.97      0.97      0.97       432\n",
      "\n"
     ]
    },
    {
     "name": "stderr",
     "output_type": "stream",
     "text": [
      "/home/shreyas/anaconda3/lib/python3.7/site-packages/sklearn/metrics/_classification.py:1221: UndefinedMetricWarning: Precision and F-score are ill-defined and being set to 0.0 in labels with no predicted samples. Use `zero_division` parameter to control this behavior.\n",
      "  _warn_prf(average, modifier, msg_start, len(result))\n"
     ]
    }
   ],
   "source": [
    "# Classification Reports\n",
    "from sklearn.metrics import classification_report\n",
    "target_classes = [\"unacc\", \"acc\", \"good\", \"vgood\"]\n",
    "print ('Classification report for SVM Classifier : \\n\\n')\n",
    "print (classification_report(y_test, y_pred_svm, target_names=target_classes))\n",
    "print ('\\n\\nClassification report for Random Forest Classifier : \\n\\n')\n",
    "print (classification_report(y_test, y_pred_forest, target_names=target_classes))"
   ]
  },
  {
   "cell_type": "code",
   "execution_count": 147,
   "metadata": {},
   "outputs": [
    {
     "data": {
      "image/png": "[encoded data removed]",
      "text/plain": [
       "<Figure size 1440x360 with 4 Axes>"
      ]
     },
     "metadata": {
      "needs_background": "light"
     },
     "output_type": "display_data"
    }
   ],
   "source": [
    "# Confusion Matrix\n",
    "from sklearn.metrics import confusion_matrix, ConfusionMatrixDisplay\n",
    "\n",
    "f,axes = plt.subplots(1,2, figsize=(20,5))\n",
    "labels = ['unacc', 'acc', 'good', 'vgood']\n",
    "\n",
    "cm_svm = confusion_matrix(y_test, y_pred_svm)\n",
    "disp_svm = ConfusionMatrixDisplay(cm_svm, display_labels=labels)\n",
    "disp_svm.plot(ax = axes[0])\n",
    "disp_svm.ax_.set_title('Confusion Matrix for SVM Classifier')\n",
    "disp_svm.ax_.set_xlabel('Predicted values')\n",
    "disp_svm.ax_.set_ylabel('True values')\n",
    "\n",
    "cm_forest = confusion_matrix(y_test, y_pred_forest)\n",
    "disp_forest = ConfusionMatrixDisplay(cm_forest, display_labels=labels)\n",
    "disp_forest.plot(ax = axes[1])\n",
    "disp_forest.ax_.set_title('Confusion Matrix for Random Forest')\n",
    "disp_forest.ax_.set_xlabel('Predicted values')\n",
    "disp_forest.ax_.set_ylabel('True values')\n",
    "\n",
    "plt.show()"
   ]
  },
  {
   "cell_type": "code",
   "execution_count": 150,
   "metadata": {},
   "outputs": [
    {
     "name": "stdout",
     "output_type": "stream",
     "text": [
      "Accuracy Score on Testing Set for SVM Classifier : 0.8842592592592593\n",
      "\n",
      "Accuracy Score on Testing Set for Random Forest Classifier : 0.9652777777777778\n"
     ]
    }
   ],
   "source": [
    "# Accuracy Scores\n",
    "from sklearn.metrics import accuracy_score\n",
    "score = accuracy_score(y_test, y_pred_svm)\n",
    "print ('Accuracy Score on Testing Set for SVM Classifier : {}\\n'.format(score))\n",
    "score = accuracy_score(y_test, y_pred_forest)\n",
    "print ('Accuracy Score on Testing Set for Random Forest Classifier : {}'.format(score))"
   ]
  }
 ],
 "metadata": {
  "kernelspec": {
   "display_name": "Python 3",
   "language": "python",
   "name": "python3"
  },
  "language_info": {
   "codemirror_mode": {
    "name": "ipython",
    "version": 3
   },
   "file_extension": ".py",
   "mimetype": "text/x-python",
   "name": "python",
   "nbconvert_exporter": "python",
   "pygments_lexer": "ipython3",
   "version": "3.7.3"
  }
 },
 "nbformat": 4,
 "nbformat_minor": 2
}
